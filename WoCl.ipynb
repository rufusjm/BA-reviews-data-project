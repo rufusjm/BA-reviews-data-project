{
 "cells": [
  {
   "cell_type": "code",
   "execution_count": 2,
   "id": "408ae539",
   "metadata": {},
   "outputs": [],
   "source": [
    "from pathlib import Path\n",
    "import matplotlib.pyplot as plt\n",
    "from wordcloud import STOPWORDS, WordCloud\n",
    "import pandas as pd"
   ]
  },
  {
   "cell_type": "code",
   "execution_count": 38,
   "id": "f15c38d7",
   "metadata": {},
   "outputs": [],
   "source": [
    "df=pd.read_csv(\"BA_reviews.csv\")"
   ]
  },
  {
   "cell_type": "code",
   "execution_count": 31,
   "id": "a657eded",
   "metadata": {},
   "outputs": [],
   "source": [
    "with open(\"reviews.txt\", \"w\") as f_out:\n",
    "    f_out.write(\"\\n\".join(df[\"review\"]))"
   ]
  },
  {
   "cell_type": "code",
   "execution_count": 37,
   "id": "6251b874",
   "metadata": {},
   "outputs": [
    {
     "data": {
      "text/plain": [
       "<wordcloud.wordcloud.WordCloud at 0x1c108a01f90>"
      ]
     },
     "execution_count": 37,
     "metadata": {},
     "output_type": "execute_result"
    }
   ],
   "source": [
    "text = open(\"reviews.txt\", mode=\"r\").read()\n",
    "stopwords = STOPWORDS\n",
    "\n",
    "wc = WordCloud(background_color=\"white\", stopwords=stopwords, height=600, width=400)\n",
    "wc.generate(text)\n",
    "\n",
    "# store to file\n",
    "wc.to_file(\"wordcloud_output.png\")"
   ]
  }
 ],
 "metadata": {
  "kernelspec": {
   "display_name": "Python 3 (ipykernel)",
   "language": "python",
   "name": "python3"
  },
  "language_info": {
   "codemirror_mode": {
    "name": "ipython",
    "version": 3
   },
   "file_extension": ".py",
   "mimetype": "text/x-python",
   "name": "python",
   "nbconvert_exporter": "python",
   "pygments_lexer": "ipython3",
   "version": "3.11.1"
  }
 },
 "nbformat": 4,
 "nbformat_minor": 5
}
