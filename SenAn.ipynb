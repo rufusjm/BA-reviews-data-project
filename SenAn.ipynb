{
 "cells": [
  {
   "cell_type": "code",
   "execution_count": 28,
   "id": "fec5a876",
   "metadata": {},
   "outputs": [],
   "source": [
    "from vaderSentiment.vaderSentiment import SentimentIntensityAnalyzer\n",
    "import pandas as pd"
   ]
  },
  {
   "cell_type": "code",
   "execution_count": 29,
   "id": "99b15054",
   "metadata": {},
   "outputs": [],
   "source": [
    "df=pd.read_csv(\"BA_reviews.csv\")"
   ]
  },
  {
   "cell_type": "code",
   "execution_count": 30,
   "id": "f85dba03",
   "metadata": {},
   "outputs": [],
   "source": [
    "with open(\"reviews.txt\", \"w\") as f_out:\n",
    "    f_out.write(\"\\n\".join(df[\"review\"]))"
   ]
  },
  {
   "cell_type": "code",
   "execution_count": 31,
   "id": "c2c92f2b",
   "metadata": {},
   "outputs": [],
   "source": [
    "text = open(\"reviews.txt\", mode=\"r\").read()"
   ]
  },
  {
   "cell_type": "code",
   "execution_count": 11,
   "id": "7124817c",
   "metadata": {},
   "outputs": [],
   "source": [
    "sia = SentimentIntensityAnalyzer()"
   ]
  },
  {
   "cell_type": "code",
   "execution_count": 32,
   "id": "bac78a88",
   "metadata": {},
   "outputs": [
    {
     "name": "stdout",
     "output_type": "stream",
     "text": [
      "{'neg': 0.086, 'neu': 0.798, 'pos': 0.117, 'compound': 1.0}\n"
     ]
    }
   ],
   "source": [
    "print(sia.polarity_scores(text))"
   ]
  }
 ],
 "metadata": {
  "kernelspec": {
   "display_name": "Python 3 (ipykernel)",
   "language": "python",
   "name": "python3"
  },
  "language_info": {
   "codemirror_mode": {
    "name": "ipython",
    "version": 3
   },
   "file_extension": ".py",
   "mimetype": "text/x-python",
   "name": "python",
   "nbconvert_exporter": "python",
   "pygments_lexer": "ipython3",
   "version": "3.11.1"
  }
 },
 "nbformat": 4,
 "nbformat_minor": 5
}
