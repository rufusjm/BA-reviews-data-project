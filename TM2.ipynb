{
 "cells": [
  {
   "cell_type": "code",
   "execution_count": 40,
   "id": "7764c972",
   "metadata": {},
   "outputs": [],
   "source": [
    "text = open(\"reviews.txt\", mode=\"r\").read()\n",
    "corpus = text.split(\"\\n \")"
   ]
  },
  {
   "cell_type": "code",
   "execution_count": 49,
   "id": "cbe86446",
   "metadata": {},
   "outputs": [],
   "source": [
    "import sklearn\n",
    "from sklearn.feature_extraction.text import CountVectorizer\n",
    "from sklearn.feature_extraction.text import TfidfTransformer\n",
    "from sklearn.decomposition import LatentDirichletAllocation as LDA\n",
    "from nltk.corpus import stopwords\n",
    "import numpy"
   ]
  },
  {
   "cell_type": "code",
   "execution_count": 42,
   "id": "03adb425",
   "metadata": {},
   "outputs": [
    {
     "data": {
      "text/plain": [
       "matrix([[0, 0, 0, ..., 0, 0, 0],\n",
       "        [0, 1, 0, ..., 0, 0, 0],\n",
       "        [0, 0, 0, ..., 0, 0, 0],\n",
       "        ...,\n",
       "        [0, 0, 0, ..., 0, 0, 0],\n",
       "        [0, 0, 0, ..., 0, 0, 0],\n",
       "        [0, 0, 0, ..., 0, 0, 0]], dtype=int64)"
      ]
     },
     "execution_count": 42,
     "metadata": {},
     "output_type": "execute_result"
    }
   ],
   "source": [
    "count_vect = CountVectorizer(stop_words=stopwords.words('english'), lowercase=True, ngram_range = (1, 1))\n",
    "x_counts = count_vect.fit_transform(corpus)\n",
    "x_counts.todense()"
   ]
  },
  {
   "cell_type": "code",
   "execution_count": 43,
   "id": "892bd6d5",
   "metadata": {},
   "outputs": [
    {
     "data": {
      "text/plain": [
       "array(['00', '000', '0038', ..., 'zones', 'zrh', 'zurich'], dtype=object)"
      ]
     },
     "execution_count": 43,
     "metadata": {},
     "output_type": "execute_result"
    }
   ],
   "source": [
    "count_vect.get_feature_names_out()"
   ]
  },
  {
   "cell_type": "code",
   "execution_count": 44,
   "id": "00ba0ba0",
   "metadata": {},
   "outputs": [],
   "source": [
    "tfidf_transformer = TfidfTransformer()\n",
    "x_tfidf = tfidf_transformer.fit_transform(x_counts)"
   ]
  },
  {
   "cell_type": "code",
   "execution_count": 67,
   "id": "30bb1968",
   "metadata": {},
   "outputs": [
    {
     "data": {
      "text/plain": [
       "array([[0.01301981, 0.01301954, 0.01301954, ..., 0.01301955, 0.01301954,\n",
       "        0.01301954],\n",
       "       [0.22299972, 0.00620306, 0.21484972, ..., 0.00620307, 0.00620306,\n",
       "        0.00620307],\n",
       "       [0.55601391, 0.00829684, 0.00829682, ..., 0.00829696, 0.00829683,\n",
       "        0.00829682],\n",
       "       ...,\n",
       "       [0.25090219, 0.00876788, 0.00876789, ..., 0.00876788, 0.00876788,\n",
       "        0.0087679 ],\n",
       "       [0.15314133, 0.00860432, 0.00860432, ..., 0.00860432, 0.27049429,\n",
       "        0.00860432],\n",
       "       [0.50236913, 0.00776835, 0.00776835, ..., 0.00776835, 0.00776835,\n",
       "        0.00776837]])"
      ]
     },
     "execution_count": 67,
     "metadata": {},
     "output_type": "execute_result"
    }
   ],
   "source": [
    "dimension = 15\n",
    "lda = LDA(n_components = dimension)\n",
    "lda_array = lda.fit_transform(x_tfidf)\n",
    "lda_array"
   ]
  },
  {
   "cell_type": "code",
   "execution_count": 68,
   "id": "e7627950",
   "metadata": {},
   "outputs": [
    {
     "data": {
      "text/plain": [
       "[['flight',\n",
       "  'ba',\n",
       "  'customer',\n",
       "  'hours',\n",
       "  'airways',\n",
       "  'british',\n",
       "  'check',\n",
       "  'us',\n",
       "  'told',\n",
       "  'london'],\n",
       " ['1h',\n",
       "  'wide',\n",
       "  'milk',\n",
       "  'vegan',\n",
       "  'wish',\n",
       "  'buses',\n",
       "  'professionalism',\n",
       "  'absolute',\n",
       "  'sardinia',\n",
       "  'expectations'],\n",
       " ['canceled',\n",
       "  'link',\n",
       "  'game',\n",
       "  'bangalore',\n",
       "  'tracking',\n",
       "  'seated',\n",
       "  'diverted',\n",
       "  'file',\n",
       "  'oslo',\n",
       "  'masks'],\n",
       " ['already',\n",
       "  'seated',\n",
       "  'superb',\n",
       "  'minimal',\n",
       "  'fa',\n",
       "  'personally',\n",
       "  'introduced',\n",
       "  'carry',\n",
       "  'concorde',\n",
       "  'rate'],\n",
       " ['flight',\n",
       "  'good',\n",
       "  'crew',\n",
       "  'food',\n",
       "  'cabin',\n",
       "  'service',\n",
       "  'seat',\n",
       "  'ba',\n",
       "  'class',\n",
       "  'london'],\n",
       " ['cdg',\n",
       "  'placed',\n",
       "  'absolute',\n",
       "  'ensured',\n",
       "  '23kg',\n",
       "  'dublin',\n",
       "  'thru',\n",
       "  'pounds',\n",
       "  'durban',\n",
       "  'north'],\n",
       " ['already',\n",
       "  '19',\n",
       "  'expectation',\n",
       "  'telephone',\n",
       "  'lines',\n",
       "  'bought',\n",
       "  'geneva',\n",
       "  '500',\n",
       "  'chips',\n",
       "  'cockpit'],\n",
       " ['sandwich',\n",
       "  'eurowings',\n",
       "  'zrh',\n",
       "  'dessert',\n",
       "  'safety',\n",
       "  'reclining',\n",
       "  'spaces',\n",
       "  'permitted',\n",
       "  'fliers',\n",
       "  'similar'],\n",
       " ['dublin',\n",
       "  'bucharest',\n",
       "  'delicious',\n",
       "  'fabulous',\n",
       "  'jeddah',\n",
       "  'shambles',\n",
       "  'sound',\n",
       "  'according',\n",
       "  'inedible',\n",
       "  'offerings'],\n",
       " ['chennai',\n",
       "  'madeira',\n",
       "  'canceled',\n",
       "  'thanks',\n",
       "  'seychelles',\n",
       "  'reservations',\n",
       "  'charges',\n",
       "  'expenses',\n",
       "  'tokyo',\n",
       "  'alaska'],\n",
       " ['daughter',\n",
       "  'appreciated',\n",
       "  'milk',\n",
       "  'hr',\n",
       "  'shanghai',\n",
       "  'jacket',\n",
       "  'warsaw',\n",
       "  'print',\n",
       "  'accra',\n",
       "  'presumably'],\n",
       " ['surly',\n",
       "  'upperdeck',\n",
       "  'chaotic',\n",
       "  'tap',\n",
       "  'k2',\n",
       "  'award',\n",
       "  '2017',\n",
       "  'afternoon',\n",
       "  'abuja',\n",
       "  'bucharest'],\n",
       " ['phoenix',\n",
       "  'nose',\n",
       "  'force',\n",
       "  'rotterdam',\n",
       "  'escalator',\n",
       "  'anniversary',\n",
       "  'dining',\n",
       "  'doha',\n",
       "  'reschedule',\n",
       "  'demanded'],\n",
       " ['grateful',\n",
       "  'aus',\n",
       "  'cleaned',\n",
       "  'greatly',\n",
       "  'budapest',\n",
       "  'kg',\n",
       "  'charges',\n",
       "  'kuwait',\n",
       "  'fa',\n",
       "  'melbourne'],\n",
       " ['march',\n",
       "  'munich',\n",
       "  'corona',\n",
       "  'tokyo',\n",
       "  'honor',\n",
       "  'spread',\n",
       "  'desks',\n",
       "  'bangalore',\n",
       "  'santorini',\n",
       "  'fair']]"
      ]
     },
     "execution_count": 68,
     "metadata": {},
     "output_type": "execute_result"
    }
   ],
   "source": [
    "components = [lda.components_[i] for i in range(len(lda.components_))]\n",
    "features = count_vect.get_feature_names_out()\n",
    "important_words = [sorted(features, key = lambda x: components[j][numpy.where(features == x)], reverse = True)[:10] for j in range(len(components))]\n",
    "important_words"
   ]
  }
 ],
 "metadata": {
  "kernelspec": {
   "display_name": "Python 3 (ipykernel)",
   "language": "python",
   "name": "python3"
  },
  "language_info": {
   "codemirror_mode": {
    "name": "ipython",
    "version": 3
   },
   "file_extension": ".py",
   "mimetype": "text/x-python",
   "name": "python",
   "nbconvert_exporter": "python",
   "pygments_lexer": "ipython3",
   "version": "3.11.1"
  }
 },
 "nbformat": 4,
 "nbformat_minor": 5
}
